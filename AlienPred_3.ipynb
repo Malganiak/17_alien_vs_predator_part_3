{
 "cells": [
  {
   "cell_type": "raw",
   "id": "687f5ded-0da1-4b3d-9b4b-628b9b983ae6",
   "metadata": {},
   "source": [
    "L'épisode 2 a mis en évidence que la technique de \"data augmentation\" permet de diminuer de manière très efficace le surapprentissage mais n'améliore que très peu (dans notre exemple !) la performance de différenciation d'une image d'un alien d'une image d'un prédator. Dans l'épisode 3, nous allons utiliser la technique dite de \"transfer learning\" et plus particulièrement d'extractions de caractéristiques (\"features extraction\") pour améliorer les performances du programme de vision par ordinateur. La procédure à suivre est la suivante :\n",
    "\n",
    "    Charger le modèle VGG-16 (mais qu'est-ce donc que ce VGG-16 ?) ;\n",
    "    Extraire les caractéristiques des images des jeux d'apprentissage, de validation et de test via VGG-16 ;\n",
    "    Entrainer un perceptron multi-couches avec le code Keras/TensorFlow suivant pour prédire à partir des caractéristiques extraites par VGG-16 la sortie (Alien ou Prédator) :\n",
    "\n",
    "model = models.Sequential()\n",
    "\n",
    "model.add(layers.Dense(units=256, activation='relu', input_dim=4 * 4 * 512))\n",
    "\n",
    "model.add(layers.Dense(units=1, activation='sigmoid'))\n",
    "\n",
    "    Conclure.\n",
    "\n",
    "* Tâches optionnelles, pour les plus courageuses et les plus courageux d'entre vous :\n",
    "    Tester d'autres modèles que VGG-16 pour effectuer l'étape de \"features extraction\" ;\n",
    "    Tester d'autres modèles de Machine Learning (par exemple SVM) pour effectuer l'étape de supervision."
   ]
  },
  {
   "cell_type": "raw",
   "id": "fb110bfe-9063-4d1a-b619-4f56517c5050",
   "metadata": {},
   "source": [
    "https://keras.io/guides/transfer_learning/: \"Transfer learning consists of taking features learned on one problem, and leveraging them on a new, similar problem. For instance, features from a model that has learned to identify racoons may be useful to kick-start a model meant to identify tanukis.\n",
    "\n",
    "Transfer learning is usually done for tasks where your dataset has too little data to train a full-scale model from scratch.\""
   ]
  },
  {
   "cell_type": "code",
   "execution_count": 1,
   "id": "f5698ab9-215f-496d-8185-4cc31dab90e2",
   "metadata": {
    "tags": []
   },
   "outputs": [],
   "source": [
    "import tensorflow as tf\n",
    "import pandas as pd\n",
    "import numpy as np\n",
    "import seaborn as sns\n",
    "import matplotlib.pyplot as plt\n",
    "import statsmodels.api as sm\n",
    "import statsmodels.formula.api as smf\n",
    "from sklearn import metrics\n",
    "pd.set_option('display.max_columns', None)"
   ]
  },
  {
   "cell_type": "markdown",
   "id": "ebf5bd6d-81d9-4f67-9e54-19e72d52b8e7",
   "metadata": {},
   "source": [
    "# Importation des datasets"
   ]
  },
  {
   "cell_type": "code",
   "execution_count": 2,
   "id": "8f0d2632-fb4f-41e4-b98b-29529e2dd306",
   "metadata": {
    "tags": []
   },
   "outputs": [
    {
     "name": "stdout",
     "output_type": "stream",
     "text": [
      "Found 494 files belonging to 2 classes.\n"
     ]
    }
   ],
   "source": [
    "# Créer un chemin d'accès du dossier Train de Data de Alien vs. Predator\n",
    "import pathlib\n",
    "\n",
    "#chemin_train = \"C:\\\\Users\\\\Utilisateur\\\\Documents\\\\Projets\\\\17_RéseauNeuronesConvolution\\\\Alien vs. Predator\"\n",
    "train_data_dir = pathlib.Path(\"Data\\Train\")\n",
    "train_ds = tf.keras.utils.image_dataset_from_directory(train_data_dir, seed=123, image_size=(150, 150), batch_size=494)"
   ]
  },
  {
   "cell_type": "code",
   "execution_count": 3,
   "id": "7de31b88-a30f-4bd1-a624-1f01ce74c314",
   "metadata": {
    "tags": []
   },
   "outputs": [
    {
     "name": "stdout",
     "output_type": "stream",
     "text": [
      "Found 200 files belonging to 2 classes.\n"
     ]
    }
   ],
   "source": [
    "test_data_dir = pathlib.Path(\"Data\\Test\")\n",
    "test_ds = tf.keras.utils.image_dataset_from_directory(test_data_dir, seed=123, image_size=(150, 150), batch_size=200)"
   ]
  },
  {
   "cell_type": "code",
   "execution_count": 4,
   "id": "b9a22664-eaed-4293-99ae-e88424b0f545",
   "metadata": {
    "tags": []
   },
   "outputs": [
    {
     "name": "stdout",
     "output_type": "stream",
     "text": [
      "Found 200 files belonging to 2 classes.\n"
     ]
    }
   ],
   "source": [
    "valid_data_dir = pathlib.Path(\"Data\\Validation\")\n",
    "valid_ds = tf.keras.utils.image_dataset_from_directory(valid_data_dir, seed=123, image_size=(150, 150), batch_size=200)"
   ]
  },
  {
   "cell_type": "markdown",
   "id": "612df3af-9dc7-4a03-b0bd-b38df9f53062",
   "metadata": {},
   "source": [
    "# Conversion arrays numpy"
   ]
  },
  {
   "cell_type": "markdown",
   "id": "111791ad-f939-4eb8-8b1d-9ac7fbceff08",
   "metadata": {},
   "source": [
    "## Conversion X_train y_train"
   ]
  },
  {
   "cell_type": "code",
   "execution_count": 5,
   "id": "383571b7-49a2-493a-8048-3dd923d49c16",
   "metadata": {
    "tags": []
   },
   "outputs": [
    {
     "name": "stdout",
     "output_type": "stream",
     "text": [
      "(494, 150, 150, 3)\n",
      "(494,)\n"
     ]
    }
   ],
   "source": [
    "for image_batch, labels_batch in train_ds:\n",
    "  print(image_batch.shape)\n",
    "  print(labels_batch.shape)\n",
    "  break\n",
    "\n",
    "X_train = np.array(image_batch)\n",
    "y_train = np.array(labels_batch)"
   ]
  },
  {
   "cell_type": "markdown",
   "id": "eb7f4149-a9f2-4ece-88de-2a1f51c4ddb7",
   "metadata": {},
   "source": [
    "## Conversion X_valid y_valid"
   ]
  },
  {
   "cell_type": "code",
   "execution_count": 6,
   "id": "da5383b6-c45c-4e2c-8885-5e5f8633b83f",
   "metadata": {
    "tags": []
   },
   "outputs": [
    {
     "name": "stdout",
     "output_type": "stream",
     "text": [
      "(200, 150, 150, 3)\n",
      "(200,)\n"
     ]
    }
   ],
   "source": [
    "for image_valid_batch, labels_valid_batch in valid_ds:\n",
    "  print(image_valid_batch.shape)\n",
    "  print(labels_valid_batch.shape)\n",
    "  break\n",
    "\n",
    "X_valid = np.array(image_valid_batch)\n",
    "y_valid = np.array(labels_valid_batch)"
   ]
  },
  {
   "cell_type": "markdown",
   "id": "54a00646-2609-4851-95bb-8a5853f48cbc",
   "metadata": {},
   "source": [
    "## Conversion X_test y_test"
   ]
  },
  {
   "cell_type": "code",
   "execution_count": 7,
   "id": "5b31f94b-fc4b-45a2-824f-65a5ef6e1991",
   "metadata": {
    "tags": []
   },
   "outputs": [
    {
     "name": "stdout",
     "output_type": "stream",
     "text": [
      "(200, 150, 150, 3)\n",
      "(200,)\n"
     ]
    }
   ],
   "source": [
    "for image_test_batch, labels_test_batch in test_ds:\n",
    "  print(image_test_batch.shape)\n",
    "  print(labels_test_batch.shape)\n",
    "  break\n",
    "\n",
    "X_test = np.array(image_test_batch)\n",
    "y_test = np.array(labels_test_batch)"
   ]
  },
  {
   "cell_type": "markdown",
   "id": "9e9a39e8-5a4b-4bd4-ab5e-69bf63134002",
   "metadata": {},
   "source": [
    "# preprocess_input()"
   ]
  },
  {
   "cell_type": "code",
   "execution_count": 8,
   "id": "747c5eef-36c5-4e74-9df5-56fde05c1113",
   "metadata": {
    "tags": []
   },
   "outputs": [],
   "source": [
    "from tensorflow.keras.applications.vgg16 import preprocess_input\n",
    "\n",
    "train_ds = preprocess_input(X_train)\n",
    "valid_ds = preprocess_input(X_valid)\n",
    "test_ds = preprocess_input(X_test)"
   ]
  },
  {
   "cell_type": "markdown",
   "id": "58114470-b236-4db5-a4e2-8c4dcd6eca65",
   "metadata": {},
   "source": [
    "# VGG 16 : \"Transforme les images en caractéristiques\""
   ]
  },
  {
   "cell_type": "raw",
   "id": "f55d85f0-f5f7-482e-922c-69eaa467dea4",
   "metadata": {},
   "source": [
    "modèles: https://inside-machinelearning.com/vgg16-tutoriel-simple-et-detaille/\n",
    "        https://github.com/keras-team/keras-applications/blob/master/keras_applications/vgg16.py"
   ]
  },
  {
   "cell_type": "code",
   "execution_count": 9,
   "id": "57cd59ae-c9bc-482b-8b08-eb38ab83ef62",
   "metadata": {
    "tags": []
   },
   "outputs": [],
   "source": [
    "from tensorflow.keras.applications.vgg16 import VGG16\n",
    "\n",
    "model_base = VGG16(include_top=False,\n",
    "    weights=\"imagenet\", #'imagenet' ou path to the weights file to be loaded ?\n",
    "    input_tensor=None,\n",
    "    input_shape=None\n",
    "    )\n",
    "\n",
    "# Freezer les couches du VGG16: https://datascientest.com/quest-ce-que-le-modele-vgg; https://datacorner.fr/vgg-transfer-learning/\n",
    "#for layer in model_base.layers:\n",
    "#    layer.trainable = False"
   ]
  },
  {
   "cell_type": "code",
   "execution_count": 10,
   "id": "5ceb61a4-1ce1-4fed-a6a7-f74e5c6a0fb3",
   "metadata": {
    "tags": []
   },
   "outputs": [
    {
     "name": "stdout",
     "output_type": "stream",
     "text": [
      "16/16 [==============================] - 25s 2s/step\n",
      "7/7 [==============================] - 12s 2s/step\n",
      "7/7 [==============================] - 11s 2s/step\n"
     ]
    }
   ],
   "source": [
    "# nouvelles variables de \"caractéristiques\" de chaque jeu\n",
    "features_train = model_base.predict(train_ds)\n",
    "features_valid = model_base.predict(valid_ds)\n",
    "features_test = model_base.predict(test_ds)"
   ]
  },
  {
   "cell_type": "code",
   "execution_count": 11,
   "id": "bc557f57-77c0-454d-8ff7-75c1f23e0c05",
   "metadata": {
    "tags": []
   },
   "outputs": [
    {
     "data": {
      "text/plain": [
       "(494, 4, 4, 512)"
      ]
     },
     "execution_count": 11,
     "metadata": {},
     "output_type": "execute_result"
    }
   ],
   "source": [
    "features_train.shape # vecteur en 4D"
   ]
  },
  {
   "cell_type": "code",
   "execution_count": 12,
   "id": "60a6b69c-fd5c-4706-9f95-6c594ee71a09",
   "metadata": {
    "tags": []
   },
   "outputs": [],
   "source": [
    "# transformation en vecteurs 2D : (nbre_features, 4*4*512)\n",
    "features_train_flatten = np.reshape(features_train, (494, 8192))\n",
    "features_valid_flatten = np.reshape(features_valid, (200, 8192))\n",
    "features_test_flatten = np.reshape(features_test, (200, 8192))"
   ]
  },
  {
   "cell_type": "markdown",
   "id": "dbcb41c0-4ffe-4ba9-a5f4-ee2d41fa1023",
   "metadata": {},
   "source": [
    "# Définir le modèle"
   ]
  },
  {
   "cell_type": "code",
   "execution_count": 13,
   "id": "edbbba88-e7dd-4def-b38f-36202dc0d8d1",
   "metadata": {
    "tags": []
   },
   "outputs": [],
   "source": [
    "# d'où \"models.Sequential()\" et non \"Sequential\" (?)\n",
    "# modèle: https://datascientest.com/quest-ce-que-le-modele-vgg\n",
    "from tensorflow.keras.models import Sequential\n",
    "from tensorflow.keras import layers\n",
    "from tensorflow.keras.layers import Dense, Flatten\n",
    "\n",
    "model = Sequential()\n",
    "#model.add(model_base) # Enlève modèle VGG16 car pas besoin de le faire : fait avec .predict\n",
    "#model.add(Flatten()) # transforme un tenseur de n dimensions en 2D: on enlève ici car features_flatten + haut\n",
    "model.add(layers.Dense(units=256, activation='relu', input_dim=4 * 4 * 512))\n",
    "model.add(layers.Dense(units=1, activation='sigmoid'))"
   ]
  },
  {
   "cell_type": "markdown",
   "id": "ee7aa768-b811-4cb0-8997-9bb74a3e941e",
   "metadata": {},
   "source": [
    "# Définir l'optimiseur et les métriques"
   ]
  },
  {
   "cell_type": "code",
   "execution_count": 14,
   "id": "7016f0bb-cacc-4d2b-a970-9141ff6260dc",
   "metadata": {
    "tags": []
   },
   "outputs": [],
   "source": [
    "from tensorflow.keras.metrics import Accuracy\n",
    "from tensorflow.keras.losses import binary_crossentropy\n",
    "model.compile(\n",
    "    optimizer='adam',\n",
    "    loss='binary_crossentropy',\n",
    "    metrics=['accuracy'],\n",
    ")"
   ]
  },
  {
   "cell_type": "markdown",
   "id": "d5bb002c-e14a-4d68-84f9-17dfc52d3d52",
   "metadata": {},
   "source": [
    "# Entrainement du modèle"
   ]
  },
  {
   "cell_type": "code",
   "execution_count": 15,
   "id": "4dedc04c-ad74-41cb-b32e-4b4cb6fa1e7e",
   "metadata": {
    "tags": []
   },
   "outputs": [],
   "source": [
    "nb_batch = 494 # full batch\n",
    "\n",
    "# Entrainement avec full batch, 500 epoch\n",
    "history = model.fit(features_train_flatten, y_train,\n",
    "    validation_data=(features_valid_flatten, y_valid),\n",
    "    batch_size=nb_batch,\n",
    "    epochs=100,\n",
    "    verbose=0\n",
    ")"
   ]
  },
  {
   "cell_type": "markdown",
   "id": "3951e6b0-57ad-463b-aa82-9b1c211dbc2f",
   "metadata": {},
   "source": [
    "# Courbes d'accuracy et de loss"
   ]
  },
  {
   "cell_type": "code",
   "execution_count": 16,
   "id": "a0e32198-6b77-4f84-bba8-3e30fefb08f0",
   "metadata": {
    "tags": []
   },
   "outputs": [
    {
     "data": {
      "image/png": "[encoded data removed]",
      "text/plain": [
       "<Figure size 1200x600 with 1 Axes>"
      ]
     },
     "metadata": {},
     "output_type": "display_data"
    },
    {
     "data": {
      "image/png": "[encoded data removed]",
      "text/plain": [
       "<Figure size 1200x600 with 1 Axes>"
      ]
     },
     "metadata": {},
     "output_type": "display_data"
    }
   ],
   "source": [
    "# Loss\n",
    "plt.subplots(figsize=(12,6))\n",
    "plt.title(\"Loss\")\n",
    "plt.plot(history.history['loss'], color='b', label='train_loss')\n",
    "plt.plot(history.history['val_loss'], color='r', label='valid_loss')\n",
    "plt.legend(loc='upper right')\n",
    "# plt.ylim(0.0, 1.0)\n",
    "plt.show()\n",
    "\n",
    "# Accuracy\n",
    "plt.subplots(figsize=(12,6))\n",
    "plt.title(\"Accuracy\")\n",
    "plt.plot(history.history['accuracy'], color='b', label='train_accuracy')\n",
    "plt.plot(history.history['val_accuracy'], color='r', label='valid_accuracy')\n",
    "plt.legend(loc='upper left')\n",
    "plt.show()"
   ]
  },
  {
   "cell_type": "markdown",
   "id": "6b675900-acf5-47e4-8021-5e83d75ecc69",
   "metadata": {},
   "source": [
    "# Evaluation - jeu de train"
   ]
  },
  {
   "cell_type": "code",
   "execution_count": 17,
   "id": "825fe993-bdb7-4119-bc66-2e676b9dc406",
   "metadata": {
    "tags": []
   },
   "outputs": [
    {
     "name": "stdout",
     "output_type": "stream",
     "text": [
      "16/16 [==============================] - 0s 3ms/step - loss: 4.5237e-04 - accuracy: 1.0000\n",
      "Accuracy pour le jeu de train 1.0\n",
      "Cross-entropie binaire pour le jeu de train 0.000452374602900818\n"
     ]
    }
   ],
   "source": [
    "# Evaluation du modèle - jeu de train\n",
    "loss_train, accuracy_train = model.evaluate(features_train_flatten, y_train)\n",
    "print(\"Accuracy pour le jeu de train\", accuracy_train)\n",
    "print(\"Cross-entropie binaire pour le jeu de train\", loss_train)"
   ]
  },
  {
   "cell_type": "code",
   "execution_count": 18,
   "id": "cc53d3aa-ba23-4a11-8f2c-b04c6115f4c6",
   "metadata": {
    "tags": []
   },
   "outputs": [],
   "source": [
    "# Prédictions - jeu de validation\n",
    "ypred_train = model.predict(features_train_flatten, batch_size=nb_batch, verbose=0)"
   ]
  },
  {
   "cell_type": "code",
   "execution_count": 19,
   "id": "b2af3631-8b24-422f-bfe9-3d536abc4ba3",
   "metadata": {},
   "outputs": [],
   "source": [
    "ypred_trainclass = (ypred_train > 0.5).astype(int)"
   ]
  },
  {
   "cell_type": "code",
   "execution_count": 20,
   "id": "35a10bba-140a-4fde-b304-35cf0a5a101c",
   "metadata": {},
   "outputs": [
    {
     "data": {
      "text/plain": [
       "array([[247,   0],\n",
       "       [  0, 247]], dtype=int64)"
      ]
     },
     "execution_count": 20,
     "metadata": {},
     "output_type": "execute_result"
    }
   ],
   "source": [
    "# Matrice de confusion\n",
    "from sklearn.metrics import confusion_matrix\n",
    "confusion_matrix(y_train, ypred_trainclass)"
   ]
  },
  {
   "cell_type": "markdown",
   "id": "550cb8f4-0680-42c6-b510-3cc542cd8226",
   "metadata": {},
   "source": [
    "## Evaluation des performances - jeu de validation"
   ]
  },
  {
   "cell_type": "code",
   "execution_count": 21,
   "id": "97751e3c-2db4-429d-885c-4a4e7cdab077",
   "metadata": {
    "tags": []
   },
   "outputs": [
    {
     "name": "stdout",
     "output_type": "stream",
     "text": [
      "7/7 [==============================] - 0s 3ms/step - loss: 0.2905 - accuracy: 0.9150\n",
      "Accuracy pour le jeu de train 0.9150000214576721\n",
      "Cross-entropie binaire pour le jeu de train 0.29049816727638245\n"
     ]
    }
   ],
   "source": [
    "# Evaluation du modèle - jeu de validation\n",
    "loss_valid, accuracy_valid = model.evaluate(features_valid_flatten,y_valid)\n",
    "print(\"Accuracy pour le jeu de train\", accuracy_valid)\n",
    "print(\"Cross-entropie binaire pour le jeu de train\", loss_valid)"
   ]
  },
  {
   "cell_type": "code",
   "execution_count": 22,
   "id": "bf75f8e3-39bc-4f43-9afe-2cbf2c4762d0",
   "metadata": {},
   "outputs": [
    {
     "name": "stdout",
     "output_type": "stream",
     "text": [
      "7/7 [==============================] - 0s 3ms/step\n"
     ]
    }
   ],
   "source": [
    "# Prédictions - jeu de validation\n",
    "ypred_valid = model.predict(features_valid_flatten)"
   ]
  },
  {
   "cell_type": "code",
   "execution_count": 23,
   "id": "cb566c93-8be2-47e9-950b-e309cd3cd3a1",
   "metadata": {},
   "outputs": [],
   "source": [
    "ypred_validclass = (ypred_valid > 0.5).astype(int)"
   ]
  },
  {
   "cell_type": "code",
   "execution_count": 24,
   "id": "1fd60e82-c551-4cdd-970e-898f70209ef1",
   "metadata": {},
   "outputs": [
    {
     "data": {
      "text/plain": [
       "array([[87, 13],\n",
       "       [ 4, 96]], dtype=int64)"
      ]
     },
     "execution_count": 24,
     "metadata": {},
     "output_type": "execute_result"
    }
   ],
   "source": [
    "confusion_matrix(y_valid, ypred_validclass)"
   ]
  },
  {
   "cell_type": "markdown",
   "id": "308e5c53-f80a-4ca9-a9d0-24ee5dd9b4bf",
   "metadata": {},
   "source": [
    "## Evaluation des performances - jeu de validation"
   ]
  },
  {
   "cell_type": "code",
   "execution_count": 25,
   "id": "90b2d029-90e3-4f67-b705-e2c99aaf274e",
   "metadata": {},
   "outputs": [
    {
     "name": "stdout",
     "output_type": "stream",
     "text": [
      "7/7 [==============================] - 0s 3ms/step - loss: 0.2927 - accuracy: 0.9000\n",
      "Accuracy pour le jeu de train 0.8999999761581421\n",
      "Cross-entropie binaire pour le jeu de train 0.29269474744796753\n"
     ]
    }
   ],
   "source": [
    "# Evaluation du modèle - jeu de test\n",
    "loss_test, accuracy_test = model.evaluate(features_test_flatten,y_test)\n",
    "print(\"Accuracy pour le jeu de train\", accuracy_test)\n",
    "print(\"Cross-entropie binaire pour le jeu de train\", loss_test)"
   ]
  },
  {
   "cell_type": "code",
   "execution_count": 26,
   "id": "c6373515-d16a-484b-87fd-8ea480702583",
   "metadata": {},
   "outputs": [
    {
     "name": "stdout",
     "output_type": "stream",
     "text": [
      "7/7 [==============================] - 0s 3ms/step\n"
     ]
    }
   ],
   "source": [
    "# Prédictions - jeu de test\n",
    "ypred_test = model.predict(features_test_flatten)"
   ]
  },
  {
   "cell_type": "code",
   "execution_count": 27,
   "id": "84141e61-b6f3-45af-82a7-ae83104f0d0e",
   "metadata": {},
   "outputs": [],
   "source": [
    "ypred_testclass = (ypred_test > 0.5).astype(int)"
   ]
  },
  {
   "cell_type": "code",
   "execution_count": 28,
   "id": "c4ed0fff-7aff-4d06-884e-69fa162f3876",
   "metadata": {
    "tags": []
   },
   "outputs": [
    {
     "data": {
      "text/plain": [
       "<sklearn.metrics._plot.confusion_matrix.ConfusionMatrixDisplay at 0x1a606154590>"
      ]
     },
     "execution_count": 28,
     "metadata": {},
     "output_type": "execute_result"
    },
    {
     "data": {
      "image/png": "[encoded data removed]",
      "text/plain": [
       "<Figure size 640x480 with 2 Axes>"
      ]
     },
     "metadata": {},
     "output_type": "display_data"
    }
   ],
   "source": [
    "# Matrice de confusion\n",
    "from sklearn.metrics import ConfusionMatrixDisplay\n",
    "ConfusionMatrixDisplay.from_predictions(ypred_testclass, y_test)"
   ]
  },
  {
   "cell_type": "code",
   "execution_count": null,
   "id": "8d145158-f231-4a75-b1f4-14efb3fcd037",
   "metadata": {},
   "outputs": [],
   "source": []
  }
 ],
 "metadata": {
  "kernelspec": {
   "display_name": "Python 3 (ipykernel)",
   "language": "python",
   "name": "python3"
  },
  "language_info": {
   "codemirror_mode": {
    "name": "ipython",
    "version": 3
   },
   "file_extension": ".py",
   "mimetype": "text/x-python",
   "name": "python",
   "nbconvert_exporter": "python",
   "pygments_lexer": "ipython3",
   "version": "3.11.3"
  }
 },
 "nbformat": 4,
 "nbformat_minor": 5
}
